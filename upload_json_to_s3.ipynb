{
 "cells": [
  {
   "cell_type": "code",
   "execution_count": 1,
   "metadata": {},
   "outputs": [],
   "source": [
    "import boto3\n",
    "import os"
   ]
  },
  {
   "cell_type": "code",
   "execution_count": 5,
   "metadata": {},
   "outputs": [],
   "source": [
    "def setup_aws_creds(access_key: str, secret_key: str):\n",
    "    # Set the AWS credentials as environment variables\n",
    "    os.environ['AWS_ACCESS_KEY_ID'] = access_key\n",
    "    os.environ['AWS_SECRET_ACCESS_KEY'] = secret_key\n",
    "    os.environ['AWS_DEFAULT_REGION'] = 'us-east-1'  # e.g., 'us-west-2'\n"
   ]
  },
  {
   "cell_type": "code",
   "execution_count": 6,
   "metadata": {},
   "outputs": [],
   "source": [
    "def upload_file_to_s3(file_path, bucket_name, object_key):\n",
    "    # Create an S3 client\n",
    "    s3 = boto3.client('s3')\n",
    "\n",
    "    # Upload the file to S3\n",
    "    try:\n",
    "        s3.upload_file(file_path, bucket_name, object_key) # Object key is the name used to store the file in S3\n",
    "        print(f\"File '{file_path}' uploaded to '{bucket_name}' as '{object_key}'.\")\n",
    "    except Exception as e:\n",
    "        print(f\"Error uploading the file: {e}\")"
   ]
  },
  {
   "cell_type": "code",
   "execution_count": 1,
   "metadata": {},
   "outputs": [],
   "source": [
    "# can refactor udfs.py > read_cred_from_file to consolidate the following into t\n",
    "with open('awssecrets.txt', 'r') as f:\n",
    "        lines = f.readlines()\n",
    "\n",
    "secrets = {}\n",
    "for line in lines:\n",
    "    key, value = line.strip().split('=')\n",
    "    secrets[key] = value\n",
    "\n",
    "AWS_ACCESS_KEY_ID = secrets.get('AWS_ACCESS_KEY_ID')\n",
    "AWS_SECRET_ACCESS_KEY = secrets.get('AWS_SECRET_ACCESS_KEY')"
   ]
  },
  {
   "cell_type": "code",
   "execution_count": null,
   "metadata": {},
   "outputs": [],
   "source": []
  },
  {
   "cell_type": "code",
   "execution_count": 3,
   "metadata": {},
   "outputs": [
    {
     "name": "stdout",
     "output_type": "stream",
     "text": [
      "None\n"
     ]
    }
   ],
   "source": [
    "print(AWS_ACCESS_KEY_ID)"
   ]
  },
  {
   "cell_type": "code",
   "execution_count": 7,
   "metadata": {},
   "outputs": [],
   "source": [
    "setup_aws_creds(access_key = AWS_ACCESS_KEY_ID, secret_key = AWS_SECRET_ACCESS_KEY)"
   ]
  },
  {
   "cell_type": "code",
   "execution_count": 8,
   "metadata": {},
   "outputs": [],
   "source": [
    "bucket_name = 'de-football'"
   ]
  },
  {
   "cell_type": "code",
   "execution_count": 9,
   "metadata": {},
   "outputs": [
    {
     "name": "stdout",
     "output_type": "stream",
     "text": [
      "File './data/raw_data/json_files/timezone.json' uploaded to 'de-football' as 'timezone.json'.\n",
      "File './data/raw_data/json_files/countries.json' uploaded to 'de-football' as 'countries.json'.\n",
      "File './data/raw_data/json_files/leagues.json' uploaded to 'de-football' as 'leagues.json'.\n",
      "Error uploading the file: [WinError 2] The system cannot find the file specified: './data/raw_data/json_files/teams.json'\n"
     ]
    }
   ],
   "source": [
    "# focus on creating the MVP Proof of Concept first\n",
    "\n",
    "file_path = './data/raw_data/json_files/timezone.json'\n",
    "object_key = 'timezone.json' \n",
    "upload_file_to_s3(file_path, bucket_name, object_key)\n",
    "\n",
    "file_path = './data/raw_data/json_files/countries.json'\n",
    "object_key = 'countries.json' \n",
    "upload_file_to_s3(file_path, bucket_name, object_key)\n",
    "\n",
    "file_path = './data/raw_data/json_files/leagues.json'\n",
    "object_key = 'leagues.json' \n",
    "upload_file_to_s3(file_path, bucket_name, object_key)"
   ]
  },
  {
   "cell_type": "markdown",
   "metadata": {},
   "source": [
    "---"
   ]
  }
 ],
 "metadata": {
  "kernelspec": {
   "display_name": "Python 3",
   "language": "python",
   "name": "python3"
  },
  "language_info": {
   "codemirror_mode": {
    "name": "ipython",
    "version": 3
   },
   "file_extension": ".py",
   "mimetype": "text/x-python",
   "name": "python",
   "nbconvert_exporter": "python",
   "pygments_lexer": "ipython3",
   "version": "3.9.0"
  },
  "orig_nbformat": 4
 },
 "nbformat": 4,
 "nbformat_minor": 2
}
