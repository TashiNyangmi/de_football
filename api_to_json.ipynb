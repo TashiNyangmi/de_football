{
 "cells": [
  {
   "cell_type": "code",
   "execution_count": 1,
   "metadata": {},
   "outputs": [],
   "source": [
    "import http.client\n",
    "import json\n",
    "import pandas as pd\n",
    "\n",
    "import itertools"
   ]
  },
  {
   "cell_type": "code",
   "execution_count": 2,
   "metadata": {},
   "outputs": [],
   "source": [
    "def fetch_data_from_api(endpoint: str = 'status') -> str:\n",
    "    \"\"\"\n",
    "    Fetches data from the API based on the specified endpoint.\n",
    "\n",
    "    Args:\n",
    "        endpoint (str): The API endpoint to query (default is 'status').\n",
    "\n",
    "    Returns:\n",
    "        str: The raw JSON response data as a Unicode string.\n",
    "    \"\"\"\n",
    "    conn = http.client.HTTPSConnection(\"v3.football.api-sports.io\")\n",
    "\n",
    "    headers = {\n",
    "        'x-rapidapi-host': \"v3.football.api-sports.io\",\n",
    "        'x-rapidapi-key': \"9c8eed52c73c854fa92b9ef6bd4a2498\"  # Replace key with data from secrets.txt file\n",
    "    }\n",
    "\n",
    "    try:\n",
    "        conn.request(\"GET\", f\"/{endpoint}\", headers=headers)\n",
    "        res = conn.getresponse()\n",
    "\n",
    "        if res.status == 200:\n",
    "            data = res.read().decode(\"utf-8\")\n",
    "            conn.close()\n",
    "            return data\n",
    "        else:\n",
    "            print(f\"Error: {res.status} - {res.reason}\")\n",
    "    except http.client.HTTPException as e:\n",
    "        print(f\"HTTP Exception occurred: {e}\")\n",
    "    except Exception as e:\n",
    "        print(f\"An error occurred: {e}\")\n",
    "\n",
    "    conn.close()\n",
    "    return \"\"\n"
   ]
  },
  {
   "cell_type": "code",
   "execution_count": 3,
   "metadata": {},
   "outputs": [],
   "source": [
    "def save_data_as_json(data: dict, file_path: str) -> None:\n",
    "    \"\"\"\n",
    "    Saves data as JSON in a specified file.\n",
    "\n",
    "    Args:\n",
    "        data (dict): The JSON-serializable data to be saved.\n",
    "        file_path (str): The file path (including the filename and .json extension) where the JSON data will be saved.\n",
    "    \"\"\"\n",
    "    try:\n",
    "        with open(file_path, 'w') as json_file:\n",
    "            json.dump(data, json_file)\n",
    "    except (IOError, OSError) as e:\n",
    "        raise Exception(f\"Error writing to file: {e}\")\n"
   ]
  },
  {
   "cell_type": "code",
   "execution_count": 4,
   "metadata": {},
   "outputs": [],
   "source": [
    "def api_to_json(endpoint: str) -> None:\n",
    "    \"\"\"\n",
    "    Fetches data from the API and saves it as a JSON file.\n",
    "\n",
    "    Args:\n",
    "        endpoint (str): The API endpoint to query.\n",
    "    \"\"\"\n",
    "    try:\n",
    "        endpoint_data = fetch_data_from_api(endpoint)\n",
    "        file_path = f\"./data/raw_data/json_files/{endpoint}.json\"\n",
    "        save_data_as_json(data=endpoint_data, file_path=file_path)\n",
    "    except Exception as e:\n",
    "        print(f\"An error occurred: {e}\")\n"
   ]
  },
  {
   "cell_type": "markdown",
   "metadata": {},
   "source": [
    "---"
   ]
  },
  {
   "cell_type": "code",
   "execution_count": 5,
   "metadata": {},
   "outputs": [],
   "source": [
    "endpoints = ['timezone', 'countries','leagues']"
   ]
  },
  {
   "cell_type": "code",
   "execution_count": 6,
   "metadata": {},
   "outputs": [],
   "source": [
    "for endpoint in endpoints:\n",
    "    api_to_json(endpoint)"
   ]
  }
 ],
 "metadata": {
  "kernelspec": {
   "display_name": "Python 3",
   "language": "python",
   "name": "python3"
  },
  "language_info": {
   "codemirror_mode": {
    "name": "ipython",
    "version": 3
   },
   "file_extension": ".py",
   "mimetype": "text/x-python",
   "name": "python",
   "nbconvert_exporter": "python",
   "pygments_lexer": "ipython3",
   "version": "3.11.4"
  },
  "orig_nbformat": 4
 },
 "nbformat": 4,
 "nbformat_minor": 2
}
