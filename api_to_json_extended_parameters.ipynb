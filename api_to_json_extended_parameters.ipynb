{
 "cells": [
  {
   "cell_type": "code",
   "execution_count": null,
   "metadata": {},
   "outputs": [],
   "source": [
    "import http.client\n",
    "import json\n",
    "import pandas as pd\n",
    "\n",
    "from typing import Optional\n",
    "\n",
    "# UDFs\n",
    "from api_to_json_udfs import api_to_json, fetch_data_from_api\n",
    "from udfs import flatten_dict, get_mysql_connection\n"
   ]
  },
  {
   "cell_type": "markdown",
   "metadata": {},
   "source": [
    "---"
   ]
  },
  {
   "cell_type": "code",
   "execution_count": null,
   "metadata": {},
   "outputs": [],
   "source": [
    "league_id = 39\n",
    "season_id = 2023\n",
    "teams = fetch_data_from_api(f'teams?league={league_id}&season={season_id}')"
   ]
  },
  {
   "cell_type": "code",
   "execution_count": null,
   "metadata": {},
   "outputs": [],
   "source": [
    "def get_teams_by_league_season(league_id, season_id):\n",
    "    teams = fetch_data_from_api(f'teams?league={league_id}&season={season_id}')\n",
    "\n",
    "    def filter_team_data(original_dict):\n",
    "        cols_to_include = ['team_id', 'team_name','team_code', 'team_country', 'team_founded', 'team_national', 'team_logo', 'venue_id']\n",
    "        return {key: value for key, value in original_dict.items() if key in cols_to_include}\n",
    "\n",
    "    return [filter_team_data(flatten_dict(team)) for team in teams]"
   ]
  },
  {
   "cell_type": "markdown",
   "metadata": {},
   "source": [
    "---"
   ]
  },
  {
   "cell_type": "code",
   "execution_count": null,
   "metadata": {},
   "outputs": [],
   "source": [
    "dbConnection = get_mysql_connection()"
   ]
  },
  {
   "cell_type": "markdown",
   "metadata": {},
   "source": [
    "---"
   ]
  },
  {
   "cell_type": "code",
   "execution_count": null,
   "metadata": {},
   "outputs": [],
   "source": [
    "def get_oldest_and_latest_seasons(league_id: int):\n",
    "    league_seasons= league_season_df[league_season_df['league_id'] == league_id]['year']\n",
    "    return (league_seasons.min(), league_seasons.max())"
   ]
  },
  {
   "cell_type": "code",
   "execution_count": null,
   "metadata": {},
   "outputs": [],
   "source": [
    "teams_dict = api_to_json(f'teams?league={PREMIER_LEAGUE_ID}&season={season_id}', return_json = True, file_name = 'teams')"
   ]
  },
  {
   "cell_type": "code",
   "execution_count": null,
   "metadata": {},
   "outputs": [],
   "source": [
    "get_oldest_and_latest_seasons(PREMIER_LEAGUE_ID)"
   ]
  },
  {
   "cell_type": "code",
   "execution_count": null,
   "metadata": {},
   "outputs": [],
   "source": [
    "manu = teams_dict.get('response')[0]"
   ]
  },
  {
   "cell_type": "code",
   "execution_count": null,
   "metadata": {},
   "outputs": [],
   "source": []
  }
 ],
 "metadata": {
  "kernelspec": {
   "display_name": "Python 3",
   "language": "python",
   "name": "python3"
  },
  "language_info": {
   "codemirror_mode": {
    "name": "ipython",
    "version": 3
   },
   "file_extension": ".py",
   "mimetype": "text/x-python",
   "name": "python",
   "nbconvert_exporter": "python",
   "pygments_lexer": "ipython3",
   "version": "3.9.0"
  },
  "orig_nbformat": 4
 },
 "nbformat": 4,
 "nbformat_minor": 2
}
