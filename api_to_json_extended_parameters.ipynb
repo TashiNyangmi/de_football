{
 "cells": [
  {
   "cell_type": "code",
   "execution_count": 1,
   "metadata": {},
   "outputs": [],
   "source": [
    "import http.client\n",
    "import json\n",
    "import pandas as pd\n",
    "\n",
    "from typing import Optional\n",
    "\n",
    "# UDFs\n",
    "from api_to_json_udfs import api_to_json, fetch_data_from_api\n",
    "from udfs import flatten_dict, get_mysql_connection\n"
   ]
  },
  {
   "cell_type": "markdown",
   "metadata": {},
   "source": [
    "---"
   ]
  },
  {
   "cell_type": "code",
   "execution_count": 13,
   "metadata": {},
   "outputs": [],
   "source": [
    "league_id = 39\n",
    "season_id = 2023\n",
    "teams = fetch_data_from_api(f'teams?league={league_id}&season={season_id}')"
   ]
  },
  {
   "cell_type": "code",
   "execution_count": 15,
   "metadata": {},
   "outputs": [],
   "source": [
    "def get_teams_by_league_season(league_id, season_id):\n",
    "    teams = fetch_data_from_api(f'teams?league={league_id}&season={season_id}')\n",
    "\n",
    "    def filter_team_data(original_dict):\n",
    "        cols_to_include = ['team_id', 'team_name','team_code', 'team_country', 'team_founded', 'team_national', 'team_logo', 'venue_id']\n",
    "        return {key: value for key, value in original_dict.items() if key in cols_to_include}\n",
    "\n",
    "    return [filter_team_data(flatten_dict(team)) for team in teams]"
   ]
  },
  {
   "cell_type": "markdown",
   "metadata": {},
   "source": [
    "---"
   ]
  },
  {
   "cell_type": "code",
   "execution_count": null,
   "metadata": {},
   "outputs": [],
   "source": [
    "dbConnection = get_mysql_connection()"
   ]
  },
  {
   "cell_type": "markdown",
   "metadata": {},
   "source": [
    "---"
   ]
  },
  {
   "cell_type": "code",
   "execution_count": 64,
   "metadata": {},
   "outputs": [],
   "source": [
    "def get_oldest_and_latest_seasons(league_id: int):\n",
    "    league_seasons= league_season_df[league_season_df['league_id'] == league_id]['year']\n",
    "    return (league_seasons.min(), league_seasons.max())"
   ]
  },
  {
   "cell_type": "code",
   "execution_count": 41,
   "metadata": {},
   "outputs": [],
   "source": [
    "teams_dict = api_to_json(f'teams?league={PREMIER_LEAGUE_ID}&season={season_id}', return_json = True, file_name = 'teams')"
   ]
  },
  {
   "cell_type": "code",
   "execution_count": 68,
   "metadata": {},
   "outputs": [
    {
     "ename": "NameError",
     "evalue": "name 'league_season_df' is not defined",
     "output_type": "error",
     "traceback": [
      "\u001b[1;31m---------------------------------------------------------------------------\u001b[0m",
      "\u001b[1;31mNameError\u001b[0m                                 Traceback (most recent call last)",
      "Cell \u001b[1;32mIn[68], line 1\u001b[0m\n\u001b[1;32m----> 1\u001b[0m get_oldest_and_latest_seasons(PREMIER_LEAGUE_ID)\n",
      "Cell \u001b[1;32mIn[64], line 2\u001b[0m, in \u001b[0;36mget_oldest_and_latest_seasons\u001b[1;34m(league_id)\u001b[0m\n\u001b[0;32m      1\u001b[0m \u001b[39mdef\u001b[39;00m \u001b[39mget_oldest_and_latest_seasons\u001b[39m(league_id: \u001b[39mint\u001b[39m):\n\u001b[1;32m----> 2\u001b[0m     league_seasons\u001b[39m=\u001b[39m league_season_df[league_season_df[\u001b[39m'\u001b[39m\u001b[39mleague_id\u001b[39m\u001b[39m'\u001b[39m] \u001b[39m==\u001b[39m league_id][\u001b[39m'\u001b[39m\u001b[39myear\u001b[39m\u001b[39m'\u001b[39m]\n\u001b[0;32m      3\u001b[0m     \u001b[39mreturn\u001b[39;00m (league_seasons\u001b[39m.\u001b[39mmin(), league_seasons\u001b[39m.\u001b[39mmax())\n",
      "\u001b[1;31mNameError\u001b[0m: name 'league_season_df' is not defined"
     ]
    }
   ],
   "source": [
    "get_oldest_and_latest_seasons(PREMIER_LEAGUE_ID)"
   ]
  },
  {
   "cell_type": "code",
   "execution_count": 62,
   "metadata": {},
   "outputs": [],
   "source": [
    "manu = teams_dict.get('response')[0]"
   ]
  },
  {
   "cell_type": "code",
   "execution_count": null,
   "metadata": {},
   "outputs": [],
   "source": []
  }
 ],
 "metadata": {
  "kernelspec": {
   "display_name": "Python 3",
   "language": "python",
   "name": "python3"
  },
  "language_info": {
   "codemirror_mode": {
    "name": "ipython",
    "version": 3
   },
   "file_extension": ".py",
   "mimetype": "text/x-python",
   "name": "python",
   "nbconvert_exporter": "python",
   "pygments_lexer": "ipython3",
   "version": "3.9.0"
  },
  "orig_nbformat": 4
 },
 "nbformat": 4,
 "nbformat_minor": 2
}
